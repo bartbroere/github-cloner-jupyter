{
 "cells": [
  {
   "cell_type": "markdown",
   "metadata": {},
   "source": [
    "# github-cloner-jupyter"
   ]
  },
  {
   "cell_type": "code",
   "execution_count": null,
   "metadata": {
    "collapsed": false
   },
   "outputs": [],
   "source": [
    "import requests\n",
    "import zipfile\n",
    "from os import mkdir\n",
    "import time\n",
    "import io\n",
    "\n",
    "def download_from_github(username, repo, targetfolder):\n",
    "    try:\n",
    "        mkdir(targetfolder)\n",
    "    except FileExistsError:\n",
    "        targetfolder = targetfolder + str(int(time.time()))\n",
    "        mkdir(targetfolder)\n",
    "    response = requests.get(\"https://github.com/\" + username + \"/\" + repo + \n",
    "                            \"/archive/master.zip\", stream=True)\n",
    "    z = zipfile.ZipFile(io.BytesIO(response.content))\n",
    "    z.extractall(targetfolder)\n",
    "    \n",
    "download_from_github(\"username\", \"repo\", \"targetfolder\")"
   ]
  },
  {
   "cell_type": "markdown",
   "metadata": {},
   "source": [
    "## Usage\n",
    "Make sure this file is in your Jupyter notebook. To use github-cloner-jupyter, change the username, repo and targetfolder in the last line of the program, and run the box by pressing Ctrl-Enter."
   ]
  }
 ],
 "metadata": {
  "kernelspec": {
   "display_name": "Python 3",
   "language": "python",
   "name": "python3"
  },
  "language_info": {
   "codemirror_mode": {
    "name": "ipython",
    "version": 3
   },
   "file_extension": ".py",
   "mimetype": "text/x-python",
   "name": "python",
   "nbconvert_exporter": "python",
   "pygments_lexer": "ipython3",
   "version": "3.4.2"
  }
 },
 "nbformat": 4,
 "nbformat_minor": 0
}
